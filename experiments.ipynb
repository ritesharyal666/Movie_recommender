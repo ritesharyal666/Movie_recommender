{
 "cells": [
  {
   "cell_type": "code",
   "execution_count": 15,
   "id": "02ac88e0",
   "metadata": {},
   "outputs": [],
   "source": [
    "import numpy as np \n",
    "import pandas as pd\n",
    "import tensorflow as tf"
   ]
  },
  {
   "cell_type": "code",
   "execution_count": 85,
   "id": "48cf2951",
   "metadata": {},
   "outputs": [
    {
     "data": {
      "text/plain": [
       "(1249252, 24)"
      ]
     },
     "execution_count": 85,
     "metadata": {},
     "output_type": "execute_result"
    }
   ],
   "source": [
    "df=pd.read_csv('TMDB_movie_dataset_v11.csv')\n",
    "df.shape\n"
   ]
  },
  {
   "cell_type": "code",
   "execution_count": 86,
   "id": "185236af",
   "metadata": {},
   "outputs": [
    {
     "data": {
      "text/plain": [
       "(10000, 24)"
      ]
     },
     "execution_count": 86,
     "metadata": {},
     "output_type": "execute_result"
    }
   ],
   "source": [
    "xdf=df.iloc[:10000,:]\n",
    "xdf.shape"
   ]
  },
  {
   "cell_type": "code",
   "execution_count": 87,
   "id": "5607ad4d",
   "metadata": {},
   "outputs": [],
   "source": [
    "choosen_df = xdf[['id','title',   'overview', 'genres', 'keywords']]"
   ]
  },
  {
   "cell_type": "code",
   "execution_count": 88,
   "id": "737ac246",
   "metadata": {},
   "outputs": [
    {
     "name": "stderr",
     "output_type": "stream",
     "text": [
      "C:\\Users\\rites\\AppData\\Local\\Temp\\ipykernel_99944\\492651049.py:1: SettingWithCopyWarning: \n",
      "A value is trying to be set on a copy of a slice from a DataFrame\n",
      "\n",
      "See the caveats in the documentation: https://pandas.pydata.org/pandas-docs/stable/user_guide/indexing.html#returning-a-view-versus-a-copy\n",
      "  choosen_df.dropna(inplace=True)\n"
     ]
    }
   ],
   "source": [
    "choosen_df.dropna(inplace=True)"
   ]
  },
  {
   "cell_type": "code",
   "execution_count": null,
   "id": "2b1bcf17",
   "metadata": {},
   "outputs": [],
   "source": []
  },
  {
   "cell_type": "code",
   "execution_count": 89,
   "id": "6a39f580",
   "metadata": {},
   "outputs": [
    {
     "name": "stderr",
     "output_type": "stream",
     "text": [
      "C:\\Users\\rites\\AppData\\Local\\Temp\\ipykernel_99944\\3486146180.py:1: SettingWithCopyWarning: \n",
      "A value is trying to be set on a copy of a slice from a DataFrame.\n",
      "Try using .loc[row_indexer,col_indexer] = value instead\n",
      "\n",
      "See the caveats in the documentation: https://pandas.pydata.org/pandas-docs/stable/user_guide/indexing.html#returning-a-view-versus-a-copy\n",
      "  choosen_df['overview']=(choosen_df['overview'].apply(lambda x :x.split()))\n"
     ]
    }
   ],
   "source": [
    "choosen_df['overview']=(choosen_df['overview'].apply(lambda x :x.split()))"
   ]
  },
  {
   "cell_type": "code",
   "execution_count": 90,
   "id": "42e81d98",
   "metadata": {},
   "outputs": [
    {
     "name": "stderr",
     "output_type": "stream",
     "text": [
      "C:\\Users\\rites\\AppData\\Local\\Temp\\ipykernel_99944\\1991100038.py:1: SettingWithCopyWarning: \n",
      "A value is trying to be set on a copy of a slice from a DataFrame.\n",
      "Try using .loc[row_indexer,col_indexer] = value instead\n",
      "\n",
      "See the caveats in the documentation: https://pandas.pydata.org/pandas-docs/stable/user_guide/indexing.html#returning-a-view-versus-a-copy\n",
      "  choosen_df['genres']=choosen_df['genres'].apply(lambda x: x.replace(\" \",\"\"))\n"
     ]
    }
   ],
   "source": [
    "choosen_df['genres']=choosen_df['genres'].apply(lambda x: x.replace(\" \",\"\"))"
   ]
  },
  {
   "cell_type": "code",
   "execution_count": 91,
   "id": "df5a96bc",
   "metadata": {},
   "outputs": [
    {
     "name": "stderr",
     "output_type": "stream",
     "text": [
      "C:\\Users\\rites\\AppData\\Local\\Temp\\ipykernel_99944\\3737118253.py:1: SettingWithCopyWarning: \n",
      "A value is trying to be set on a copy of a slice from a DataFrame.\n",
      "Try using .loc[row_indexer,col_indexer] = value instead\n",
      "\n",
      "See the caveats in the documentation: https://pandas.pydata.org/pandas-docs/stable/user_guide/indexing.html#returning-a-view-versus-a-copy\n",
      "  choosen_df['keywords']=choosen_df['keywords'].apply(lambda x: x.replace(\" \",\"\"))\n"
     ]
    }
   ],
   "source": [
    "choosen_df['keywords']=choosen_df['keywords'].apply(lambda x: x.replace(\" \",\"\"))"
   ]
  },
  {
   "cell_type": "code",
   "execution_count": null,
   "id": "f9633d57",
   "metadata": {},
   "outputs": [],
   "source": []
  },
  {
   "cell_type": "code",
   "execution_count": 92,
   "id": "35efe4c3",
   "metadata": {},
   "outputs": [
    {
     "name": "stderr",
     "output_type": "stream",
     "text": [
      "C:\\Users\\rites\\AppData\\Local\\Temp\\ipykernel_99944\\3232127803.py:1: SettingWithCopyWarning: \n",
      "A value is trying to be set on a copy of a slice from a DataFrame.\n",
      "Try using .loc[row_indexer,col_indexer] = value instead\n",
      "\n",
      "See the caveats in the documentation: https://pandas.pydata.org/pandas-docs/stable/user_guide/indexing.html#returning-a-view-versus-a-copy\n",
      "  choosen_df['overview']=choosen_df['overview'].apply(lambda x: ''.join(x))\n"
     ]
    }
   ],
   "source": [
    "choosen_df['overview']=choosen_df['overview'].apply(lambda x: ''.join(x))"
   ]
  },
  {
   "cell_type": "code",
   "execution_count": 93,
   "id": "9e6631f8",
   "metadata": {},
   "outputs": [
    {
     "name": "stderr",
     "output_type": "stream",
     "text": [
      "C:\\Users\\rites\\AppData\\Local\\Temp\\ipykernel_99944\\1512895843.py:1: SettingWithCopyWarning: \n",
      "A value is trying to be set on a copy of a slice from a DataFrame.\n",
      "Try using .loc[row_indexer,col_indexer] = value instead\n",
      "\n",
      "See the caveats in the documentation: https://pandas.pydata.org/pandas-docs/stable/user_guide/indexing.html#returning-a-view-versus-a-copy\n",
      "  choosen_df['words']=choosen_df['genres']+choosen_df['keywords']+choosen_df['overview']\n"
     ]
    }
   ],
   "source": [
    "choosen_df['words']=choosen_df['genres']+choosen_df['keywords']+choosen_df['overview']"
   ]
  },
  {
   "cell_type": "code",
   "execution_count": 94,
   "id": "9be57ef0",
   "metadata": {},
   "outputs": [
    {
     "data": {
      "text/plain": [
       "0       Action,ScienceFiction,Adventurerescue,mission,...\n",
       "1       Adventure,Drama,ScienceFictionrescue,future,sp...\n",
       "2       Drama,Action,Crime,Thrillerjoker,sadism,chaos,...\n",
       "3       Action,Adventure,Fantasy,ScienceFictionfuture,...\n",
       "4       ScienceFiction,Action,Adventurenewyorkcity,sup...\n",
       "                              ...                        \n",
       "9993    Family,Adventurerescue,poker,sports,shipwreck,...\n",
       "9994    Crime,Drama,Thrillerhitman,criminalBeautifulCa...\n",
       "9995    Action,Thriller,ScienceFiction,Crime,Horrorher...\n",
       "9996    Comedy,Family,Crimesydney,australia,highschool...\n",
       "9999    War,Drama,ScienceFictiongreatbritain,northerne...\n",
       "Name: words, Length: 9551, dtype: object"
      ]
     },
     "execution_count": 94,
     "metadata": {},
     "output_type": "execute_result"
    }
   ],
   "source": [
    "choosen_df['words']"
   ]
  },
  {
   "cell_type": "code",
   "execution_count": 95,
   "id": "af9aecd2",
   "metadata": {},
   "outputs": [
    {
     "data": {
      "text/html": [
       "<div>\n",
       "<style scoped>\n",
       "    .dataframe tbody tr th:only-of-type {\n",
       "        vertical-align: middle;\n",
       "    }\n",
       "\n",
       "    .dataframe tbody tr th {\n",
       "        vertical-align: top;\n",
       "    }\n",
       "\n",
       "    .dataframe thead th {\n",
       "        text-align: right;\n",
       "    }\n",
       "</style>\n",
       "<table border=\"1\" class=\"dataframe\">\n",
       "  <thead>\n",
       "    <tr style=\"text-align: right;\">\n",
       "      <th></th>\n",
       "      <th>id</th>\n",
       "      <th>title</th>\n",
       "      <th>words</th>\n",
       "    </tr>\n",
       "  </thead>\n",
       "  <tbody>\n",
       "    <tr>\n",
       "      <th>0</th>\n",
       "      <td>27205</td>\n",
       "      <td>Inception</td>\n",
       "      <td>Action,ScienceFiction,Adventurerescue,mission,...</td>\n",
       "    </tr>\n",
       "    <tr>\n",
       "      <th>1</th>\n",
       "      <td>157336</td>\n",
       "      <td>Interstellar</td>\n",
       "      <td>Adventure,Drama,ScienceFictionrescue,future,sp...</td>\n",
       "    </tr>\n",
       "    <tr>\n",
       "      <th>2</th>\n",
       "      <td>155</td>\n",
       "      <td>The Dark Knight</td>\n",
       "      <td>Drama,Action,Crime,Thrillerjoker,sadism,chaos,...</td>\n",
       "    </tr>\n",
       "    <tr>\n",
       "      <th>3</th>\n",
       "      <td>19995</td>\n",
       "      <td>Avatar</td>\n",
       "      <td>Action,Adventure,Fantasy,ScienceFictionfuture,...</td>\n",
       "    </tr>\n",
       "    <tr>\n",
       "      <th>4</th>\n",
       "      <td>24428</td>\n",
       "      <td>The Avengers</td>\n",
       "      <td>ScienceFiction,Action,Adventurenewyorkcity,sup...</td>\n",
       "    </tr>\n",
       "    <tr>\n",
       "      <th>...</th>\n",
       "      <td>...</td>\n",
       "      <td>...</td>\n",
       "      <td>...</td>\n",
       "    </tr>\n",
       "    <tr>\n",
       "      <th>9993</th>\n",
       "      <td>17264</td>\n",
       "      <td>The Black Stallion</td>\n",
       "      <td>Family,Adventurerescue,poker,sports,shipwreck,...</td>\n",
       "    </tr>\n",
       "    <tr>\n",
       "      <th>9994</th>\n",
       "      <td>16164</td>\n",
       "      <td>Killshot</td>\n",
       "      <td>Crime,Drama,Thrillerhitman,criminalBeautifulCa...</td>\n",
       "    </tr>\n",
       "    <tr>\n",
       "      <th>9995</th>\n",
       "      <td>19384</td>\n",
       "      <td>Dark Angel</td>\n",
       "      <td>Action,Thriller,ScienceFiction,Crime,Horrorher...</td>\n",
       "    </tr>\n",
       "    <tr>\n",
       "      <th>9996</th>\n",
       "      <td>34729</td>\n",
       "      <td>Our Lips Are Sealed</td>\n",
       "      <td>Comedy,Family,Crimesydney,australia,highschool...</td>\n",
       "    </tr>\n",
       "    <tr>\n",
       "      <th>9999</th>\n",
       "      <td>17835</td>\n",
       "      <td>Threads</td>\n",
       "      <td>War,Drama,ScienceFictiongreatbritain,northerne...</td>\n",
       "    </tr>\n",
       "  </tbody>\n",
       "</table>\n",
       "<p>9551 rows × 3 columns</p>\n",
       "</div>"
      ],
      "text/plain": [
       "          id                title  \\\n",
       "0      27205            Inception   \n",
       "1     157336         Interstellar   \n",
       "2        155      The Dark Knight   \n",
       "3      19995               Avatar   \n",
       "4      24428         The Avengers   \n",
       "...      ...                  ...   \n",
       "9993   17264   The Black Stallion   \n",
       "9994   16164             Killshot   \n",
       "9995   19384           Dark Angel   \n",
       "9996   34729  Our Lips Are Sealed   \n",
       "9999   17835              Threads   \n",
       "\n",
       "                                                  words  \n",
       "0     Action,ScienceFiction,Adventurerescue,mission,...  \n",
       "1     Adventure,Drama,ScienceFictionrescue,future,sp...  \n",
       "2     Drama,Action,Crime,Thrillerjoker,sadism,chaos,...  \n",
       "3     Action,Adventure,Fantasy,ScienceFictionfuture,...  \n",
       "4     ScienceFiction,Action,Adventurenewyorkcity,sup...  \n",
       "...                                                 ...  \n",
       "9993  Family,Adventurerescue,poker,sports,shipwreck,...  \n",
       "9994  Crime,Drama,Thrillerhitman,criminalBeautifulCa...  \n",
       "9995  Action,Thriller,ScienceFiction,Crime,Horrorher...  \n",
       "9996  Comedy,Family,Crimesydney,australia,highschool...  \n",
       "9999  War,Drama,ScienceFictiongreatbritain,northerne...  \n",
       "\n",
       "[9551 rows x 3 columns]"
      ]
     },
     "execution_count": 95,
     "metadata": {},
     "output_type": "execute_result"
    }
   ],
   "source": [
    "choosen_df.drop(columns=['genres','keywords','overview'])"
   ]
  },
  {
   "cell_type": "code",
   "execution_count": 96,
   "id": "bda79d73",
   "metadata": {},
   "outputs": [],
   "source": [
    "from sklearn.feature_extraction.text import CountVectorizer\n",
    "cv = CountVectorizer(max_features=5000,stop_words='english')"
   ]
  },
  {
   "cell_type": "code",
   "execution_count": null,
   "id": "be214df9",
   "metadata": {},
   "outputs": [],
   "source": []
  },
  {
   "cell_type": "code",
   "execution_count": 97,
   "id": "197a9c57",
   "metadata": {},
   "outputs": [],
   "source": [
    "from nltk.stem import PorterStemmer\n",
    "ps=PorterStemmer()"
   ]
  },
  {
   "cell_type": "code",
   "execution_count": 98,
   "id": "a1fbbf67",
   "metadata": {},
   "outputs": [
    {
     "name": "stderr",
     "output_type": "stream",
     "text": [
      "C:\\Users\\rites\\AppData\\Local\\Temp\\ipykernel_99944\\2798920379.py:1: SettingWithCopyWarning: \n",
      "A value is trying to be set on a copy of a slice from a DataFrame.\n",
      "Try using .loc[row_indexer,col_indexer] = value instead\n",
      "\n",
      "See the caveats in the documentation: https://pandas.pydata.org/pandas-docs/stable/user_guide/indexing.html#returning-a-view-versus-a-copy\n",
      "  choosen_df['words']=choosen_df['words'].apply(stem)\n"
     ]
    }
   ],
   "source": [
    "choosen_df['words']=choosen_df['words'].apply(stem)"
   ]
  },
  {
   "cell_type": "code",
   "execution_count": 99,
   "id": "34af2d07",
   "metadata": {},
   "outputs": [],
   "source": [
    "def stem(x):\n",
    "    y=x.split(\",\")\n",
    "    output=[]\n",
    "    for word in y:\n",
    "        output.append(ps.stem(word))\n",
    "\n",
    "    return ','.join(output)\n",
    "    \n",
    "\n"
   ]
  },
  {
   "cell_type": "code",
   "execution_count": 100,
   "id": "d98ea860",
   "metadata": {},
   "outputs": [],
   "source": [
    "vectors  = cv.fit_transform(choosen_df['words']).toarray()"
   ]
  },
  {
   "cell_type": "code",
   "execution_count": 101,
   "id": "2f82ef87",
   "metadata": {},
   "outputs": [],
   "source": [
    "from sklearn.metrics.pairwise import cosine_similarity"
   ]
  },
  {
   "cell_type": "code",
   "execution_count": 102,
   "id": "1d85abe1",
   "metadata": {},
   "outputs": [],
   "source": [
    "similarity_vector = cosine_similarity(vectors)"
   ]
  },
  {
   "cell_type": "code",
   "execution_count": 110,
   "id": "52d59667",
   "metadata": {},
   "outputs": [],
   "source": [
    "def recommend(movie):\n",
    "    movie_index = choosen_df[choosen_df['title']==movie].index[0]\n",
    "    distances = similarity_vector[movie_index]\n",
    "    movies_list =sorted(list(enumerate(distances)),reverse=True,key=lambda x:x[1])[1:11]\n",
    "    for i in movies_list:\n",
    "        print(choosen_df.iloc[i[0]].title)"
   ]
  },
  {
   "cell_type": "code",
   "execution_count": null,
   "id": "71b92c0d",
   "metadata": {},
   "outputs": [],
   "source": []
  },
  {
   "cell_type": "code",
   "execution_count": 111,
   "id": "1895665a",
   "metadata": {},
   "outputs": [
    {
     "name": "stdout",
     "output_type": "stream",
     "text": [
      "The Dark Knight\n",
      "The Dark Knight Rises\n",
      "Batman: Under the Red Hood\n",
      "Batman & Robin\n",
      "Kick-Ass 2\n",
      "Iron Monkey\n",
      "The Old Guard\n",
      "Project Power\n",
      "Batman Returns\n",
      "The Punisher\n"
     ]
    }
   ],
   "source": [
    "recommend('Batman Begins')"
   ]
  },
  {
   "cell_type": "code",
   "execution_count": null,
   "id": "a1221e18",
   "metadata": {},
   "outputs": [],
   "source": []
  },
  {
   "cell_type": "code",
   "execution_count": 112,
   "id": "5801545b",
   "metadata": {},
   "outputs": [],
   "source": [
    "import pickle"
   ]
  },
  {
   "cell_type": "code",
   "execution_count": 113,
   "id": "82dad068",
   "metadata": {},
   "outputs": [],
   "source": [
    "pickle.dump(choosen_df,open('movies.pkl','wb'))"
   ]
  },
  {
   "cell_type": "code",
   "execution_count": 114,
   "id": "160819c6",
   "metadata": {},
   "outputs": [],
   "source": [
    "pickle.dump(similarity_vector,open('similarity.pkl','wb'))"
   ]
  },
  {
   "cell_type": "code",
   "execution_count": null,
   "id": "95fd3231",
   "metadata": {},
   "outputs": [],
   "source": []
  }
 ],
 "metadata": {
  "kernelspec": {
   "display_name": "deeplearning",
   "language": "python",
   "name": "python3"
  },
  "language_info": {
   "codemirror_mode": {
    "name": "ipython",
    "version": 3
   },
   "file_extension": ".py",
   "mimetype": "text/x-python",
   "name": "python",
   "nbconvert_exporter": "python",
   "pygments_lexer": "ipython3",
   "version": "3.10.13"
  }
 },
 "nbformat": 4,
 "nbformat_minor": 5
}
